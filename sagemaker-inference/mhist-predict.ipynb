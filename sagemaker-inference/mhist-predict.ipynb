{
 "cells": [
  {
   "cell_type": "code",
   "execution_count": 1,
   "id": "28a1692c-cfa0-4bf1-bbd6-f607e54d3746",
   "metadata": {
    "tags": []
   },
   "outputs": [
    {
     "name": "stdout",
     "output_type": "stream",
     "text": [
      "/home/sagemaker-user/histology-image-analysis/sagemaker-inference\n",
      "MHIST_ViT_v13_dynamo_model.onnx  inference.py\t      requirements.txt\n",
      "__pycache__\t\t\t mhist-predict.ipynb  test_locally.py\n"
     ]
    }
   ],
   "source": [
    "!pwd\n",
    "!ls\n",
    "\n",
    "# In SageMaker Studio Code Editor, the following is the output:\n",
    "# /home/sagemaker-user/histology-image-analysis/sagemaker-inference\n",
    "# mhist-predict.ipynb  src  test_locally.py\n",
    "\n",
    "# In a SageMaker Notebook Instance, the following is the output:\n",
    "# /home/ec2-user/SageMaker/histology-image-analysis/sagemaker-inference\n",
    "# mhist-predict.ipynb  model  src  test_locally.py"
   ]
  },
  {
   "cell_type": "code",
   "execution_count": 2,
   "id": "cb50747d-3c7a-417a-a8cb-9a250d4e0056",
   "metadata": {
    "tags": []
   },
   "outputs": [
    {
     "name": "stdout",
     "output_type": "stream",
     "text": [
      "Output: {\"logit\": 3.948834180831909, \"predicted_class\": \"SSA\", \"probability\": 0.9810874185378591}\n"
     ]
    }
   ],
   "source": [
    "# Test inference locally\n",
    "!pip install -U -q -r requirements.txt\n",
    "%run test_locally.py"
   ]
  },
  {
   "cell_type": "code",
   "execution_count": 3,
   "id": "923236bc-9840-4f39-b510-5628992f15f1",
   "metadata": {
    "tags": []
   },
   "outputs": [
    {
     "name": "stdout",
     "output_type": "stream",
     "text": [
      "MHIST_ViT_v13_dynamo_model.onnx\n",
      "inference.py\n",
      "requirements.txt\n"
     ]
    }
   ],
   "source": [
    "!tar -czvf model.tar.gz MHIST_ViT_v13_dynamo_model.onnx inference.py requirements.txt"
   ]
  },
  {
   "cell_type": "code",
   "execution_count": 4,
   "id": "5d69bc79-b266-4c53-8230-be6f40fb2892",
   "metadata": {
    "tags": []
   },
   "outputs": [
    {
     "name": "stdout",
     "output_type": "stream",
     "text": [
      "sagemaker.config INFO - Not applying SDK defaults from location: /etc/xdg/sagemaker/config.yaml\n",
      "sagemaker.config INFO - Not applying SDK defaults from location: /home/sagemaker-user/.config/sagemaker/config.yaml\n",
      "Model files uploaded to: s3://sagemaker-us-west-1-851725529671/mhist-vit-model/model.tar.gz\n"
     ]
    }
   ],
   "source": [
    "# Upload model files to SageMaker default bucket\n",
    "# !pip install -U sagemaker\n",
    "import boto3\n",
    "import sagemaker\n",
    "\n",
    "sagemaker_session = sagemaker.Session()\n",
    "bucket = sagemaker_session.default_bucket()\n",
    "dest = sagemaker_session.upload_data(path='model.tar.gz', bucket=bucket, key_prefix='mhist-vit-model')\n",
    "\n",
    "print(f\"Model files uploaded to: {dest}\")\n",
    "# Model files uploaded to: s3://sagemaker-us-west-1-851725529671/mhist-vit-model/model.tar.gz"
   ]
  },
  {
   "cell_type": "code",
   "execution_count": 9,
   "id": "2ac6845f-d785-4339-8c8a-00261f2be6cf",
   "metadata": {
    "tags": []
   },
   "outputs": [
    {
     "name": "stdout",
     "output_type": "stream",
     "text": [
      "-----!"
     ]
    },
    {
     "ename": "ModelError",
     "evalue": "An error occurred (ModelError) when calling the InvokeEndpoint operation: Received server error (500) from primary and could not load the entire response body. See https://us-west-1.console.aws.amazon.com/cloudwatch/home?region=us-west-1#logEventViewer:group=/aws/sagemaker/Endpoints/pytorch-inference-2024-07-17-16-21-47-068 in account 851725529671 for more information.",
     "output_type": "error",
     "traceback": [
      "\u001b[0;31m---------------------------------------------------------------------------\u001b[0m",
      "\u001b[0;31mModelError\u001b[0m                                Traceback (most recent call last)",
      "\u001b[1;32m/home/sagemaker-user/histology-image-analysis/sagemaker-inference/mhist-predict.ipynb Cell 5\u001b[0m line \u001b[0;36m2\n\u001b[1;32m      <a href='vscode-notebook-cell://hahxcnaplrozpkx.studio.us-west-1.sagemaker.aws/home/sagemaker-user/histology-image-analysis/sagemaker-inference/mhist-predict.ipynb#W4sdnNjb2RlLXJlbW90ZQ%3D%3D?line=6'>7</a>\u001b[0m model \u001b[39m=\u001b[39m PyTorchModel(\n\u001b[1;32m      <a href='vscode-notebook-cell://hahxcnaplrozpkx.studio.us-west-1.sagemaker.aws/home/sagemaker-user/histology-image-analysis/sagemaker-inference/mhist-predict.ipynb#W4sdnNjb2RlLXJlbW90ZQ%3D%3D?line=7'>8</a>\u001b[0m     model_data\u001b[39m=\u001b[39mmodel_data,\n\u001b[1;32m      <a href='vscode-notebook-cell://hahxcnaplrozpkx.studio.us-west-1.sagemaker.aws/home/sagemaker-user/histology-image-analysis/sagemaker-inference/mhist-predict.ipynb#W4sdnNjb2RlLXJlbW90ZQ%3D%3D?line=8'>9</a>\u001b[0m     role\u001b[39m=\u001b[39mrole,\n\u001b[0;32m   (...)\u001b[0m\n\u001b[1;32m     <a href='vscode-notebook-cell://hahxcnaplrozpkx.studio.us-west-1.sagemaker.aws/home/sagemaker-user/histology-image-analysis/sagemaker-inference/mhist-predict.ipynb#W4sdnNjb2RlLXJlbW90ZQ%3D%3D?line=13'>14</a>\u001b[0m     dependencies\u001b[39m=\u001b[39m[\u001b[39m'\u001b[39m\u001b[39mrequirements.txt\u001b[39m\u001b[39m'\u001b[39m]\n\u001b[1;32m     <a href='vscode-notebook-cell://hahxcnaplrozpkx.studio.us-west-1.sagemaker.aws/home/sagemaker-user/histology-image-analysis/sagemaker-inference/mhist-predict.ipynb#W4sdnNjb2RlLXJlbW90ZQ%3D%3D?line=14'>15</a>\u001b[0m )\n\u001b[1;32m     <a href='vscode-notebook-cell://hahxcnaplrozpkx.studio.us-west-1.sagemaker.aws/home/sagemaker-user/histology-image-analysis/sagemaker-inference/mhist-predict.ipynb#W4sdnNjb2RlLXJlbW90ZQ%3D%3D?line=15'>16</a>\u001b[0m predictor \u001b[39m=\u001b[39m model\u001b[39m.\u001b[39mdeploy(\n\u001b[1;32m     <a href='vscode-notebook-cell://hahxcnaplrozpkx.studio.us-west-1.sagemaker.aws/home/sagemaker-user/histology-image-analysis/sagemaker-inference/mhist-predict.ipynb#W4sdnNjb2RlLXJlbW90ZQ%3D%3D?line=16'>17</a>\u001b[0m     instance_type\u001b[39m=\u001b[39m\u001b[39m'\u001b[39m\u001b[39mml.m5.xlarge\u001b[39m\u001b[39m'\u001b[39m,\n\u001b[1;32m     <a href='vscode-notebook-cell://hahxcnaplrozpkx.studio.us-west-1.sagemaker.aws/home/sagemaker-user/histology-image-analysis/sagemaker-inference/mhist-predict.ipynb#W4sdnNjb2RlLXJlbW90ZQ%3D%3D?line=17'>18</a>\u001b[0m     initial_instance_count\u001b[39m=\u001b[39m\u001b[39m1\u001b[39m\n\u001b[1;32m     <a href='vscode-notebook-cell://hahxcnaplrozpkx.studio.us-west-1.sagemaker.aws/home/sagemaker-user/histology-image-analysis/sagemaker-inference/mhist-predict.ipynb#W4sdnNjb2RlLXJlbW90ZQ%3D%3D?line=18'>19</a>\u001b[0m )\n\u001b[0;32m---> <a href='vscode-notebook-cell://hahxcnaplrozpkx.studio.us-west-1.sagemaker.aws/home/sagemaker-user/histology-image-analysis/sagemaker-inference/mhist-predict.ipynb#W4sdnNjb2RlLXJlbW90ZQ%3D%3D?line=19'>20</a>\u001b[0m response \u001b[39m=\u001b[39m predictor\u001b[39m.\u001b[39;49mpredict({\n\u001b[1;32m     <a href='vscode-notebook-cell://hahxcnaplrozpkx.studio.us-west-1.sagemaker.aws/home/sagemaker-user/histology-image-analysis/sagemaker-inference/mhist-predict.ipynb#W4sdnNjb2RlLXJlbW90ZQ%3D%3D?line=20'>21</a>\u001b[0m     \u001b[39m'\u001b[39;49m\u001b[39mbucket\u001b[39;49m\u001b[39m'\u001b[39;49m: \u001b[39m'\u001b[39;49m\u001b[39mmhist-streamlit-app\u001b[39;49m\u001b[39m'\u001b[39;49m,\n\u001b[1;32m     <a href='vscode-notebook-cell://hahxcnaplrozpkx.studio.us-west-1.sagemaker.aws/home/sagemaker-user/histology-image-analysis/sagemaker-inference/mhist-predict.ipynb#W4sdnNjb2RlLXJlbW90ZQ%3D%3D?line=21'>22</a>\u001b[0m     \u001b[39m'\u001b[39;49m\u001b[39mkey\u001b[39;49m\u001b[39m'\u001b[39;49m: \u001b[39m'\u001b[39;49m\u001b[39mimages/original/MHIST_aah.png\u001b[39;49m\u001b[39m'\u001b[39;49m\n\u001b[1;32m     <a href='vscode-notebook-cell://hahxcnaplrozpkx.studio.us-west-1.sagemaker.aws/home/sagemaker-user/histology-image-analysis/sagemaker-inference/mhist-predict.ipynb#W4sdnNjb2RlLXJlbW90ZQ%3D%3D?line=22'>23</a>\u001b[0m })\n\u001b[1;32m     <a href='vscode-notebook-cell://hahxcnaplrozpkx.studio.us-west-1.sagemaker.aws/home/sagemaker-user/histology-image-analysis/sagemaker-inference/mhist-predict.ipynb#W4sdnNjb2RlLXJlbW90ZQ%3D%3D?line=23'>24</a>\u001b[0m predictor\u001b[39m.\u001b[39mdelete_endpoint()\n\u001b[1;32m     <a href='vscode-notebook-cell://hahxcnaplrozpkx.studio.us-west-1.sagemaker.aws/home/sagemaker-user/histology-image-analysis/sagemaker-inference/mhist-predict.ipynb#W4sdnNjb2RlLXJlbW90ZQ%3D%3D?line=24'>25</a>\u001b[0m response\n",
      "File \u001b[0;32m/opt/conda/lib/python3.10/site-packages/sagemaker/base_predictor.py:212\u001b[0m, in \u001b[0;36mPredictor.predict\u001b[0;34m(self, data, initial_args, target_model, target_variant, inference_id, custom_attributes, component_name)\u001b[0m\n\u001b[1;32m    209\u001b[0m \u001b[39mif\u001b[39;00m inference_component_name:\n\u001b[1;32m    210\u001b[0m     request_args[\u001b[39m\"\u001b[39m\u001b[39mInferenceComponentName\u001b[39m\u001b[39m\"\u001b[39m] \u001b[39m=\u001b[39m inference_component_name\n\u001b[0;32m--> 212\u001b[0m response \u001b[39m=\u001b[39m \u001b[39mself\u001b[39;49m\u001b[39m.\u001b[39;49msagemaker_session\u001b[39m.\u001b[39;49msagemaker_runtime_client\u001b[39m.\u001b[39;49minvoke_endpoint(\u001b[39m*\u001b[39;49m\u001b[39m*\u001b[39;49mrequest_args)\n\u001b[1;32m    213\u001b[0m \u001b[39mreturn\u001b[39;00m \u001b[39mself\u001b[39m\u001b[39m.\u001b[39m_handle_response(response)\n",
      "File \u001b[0;32m/opt/conda/lib/python3.10/site-packages/botocore/client.py:565\u001b[0m, in \u001b[0;36mClientCreator._create_api_method.<locals>._api_call\u001b[0;34m(self, *args, **kwargs)\u001b[0m\n\u001b[1;32m    561\u001b[0m     \u001b[39mraise\u001b[39;00m \u001b[39mTypeError\u001b[39;00m(\n\u001b[1;32m    562\u001b[0m         \u001b[39mf\u001b[39m\u001b[39m\"\u001b[39m\u001b[39m{\u001b[39;00mpy_operation_name\u001b[39m}\u001b[39;00m\u001b[39m() only accepts keyword arguments.\u001b[39m\u001b[39m\"\u001b[39m\n\u001b[1;32m    563\u001b[0m     )\n\u001b[1;32m    564\u001b[0m \u001b[39m# The \"self\" in this scope is referring to the BaseClient.\u001b[39;00m\n\u001b[0;32m--> 565\u001b[0m \u001b[39mreturn\u001b[39;00m \u001b[39mself\u001b[39;49m\u001b[39m.\u001b[39;49m_make_api_call(operation_name, kwargs)\n",
      "File \u001b[0;32m/opt/conda/lib/python3.10/site-packages/botocore/client.py:1021\u001b[0m, in \u001b[0;36mBaseClient._make_api_call\u001b[0;34m(self, operation_name, api_params)\u001b[0m\n\u001b[1;32m   1017\u001b[0m     error_code \u001b[39m=\u001b[39m error_info\u001b[39m.\u001b[39mget(\u001b[39m\"\u001b[39m\u001b[39mQueryErrorCode\u001b[39m\u001b[39m\"\u001b[39m) \u001b[39mor\u001b[39;00m error_info\u001b[39m.\u001b[39mget(\n\u001b[1;32m   1018\u001b[0m         \u001b[39m\"\u001b[39m\u001b[39mCode\u001b[39m\u001b[39m\"\u001b[39m\n\u001b[1;32m   1019\u001b[0m     )\n\u001b[1;32m   1020\u001b[0m     error_class \u001b[39m=\u001b[39m \u001b[39mself\u001b[39m\u001b[39m.\u001b[39mexceptions\u001b[39m.\u001b[39mfrom_code(error_code)\n\u001b[0;32m-> 1021\u001b[0m     \u001b[39mraise\u001b[39;00m error_class(parsed_response, operation_name)\n\u001b[1;32m   1022\u001b[0m \u001b[39melse\u001b[39;00m:\n\u001b[1;32m   1023\u001b[0m     \u001b[39mreturn\u001b[39;00m parsed_response\n",
      "\u001b[0;31mModelError\u001b[0m: An error occurred (ModelError) when calling the InvokeEndpoint operation: Received server error (500) from primary and could not load the entire response body. See https://us-west-1.console.aws.amazon.com/cloudwatch/home?region=us-west-1#logEventViewer:group=/aws/sagemaker/Endpoints/pytorch-inference-2024-07-17-16-21-47-068 in account 851725529671 for more information."
     ]
    }
   ],
   "source": [
    "import sagemaker\n",
    "from sagemaker.pytorch import PyTorchModel\n",
    "sagemaker_session = sagemaker.Session()\n",
    "role = sagemaker.get_execution_role() # arn:aws:iam::851725529671:role/SageMakerEx\n",
    "model_data = 's3://sagemaker-us-west-1-851725529671/mhist-vit-model/model.tar.gz'\n",
    "\n",
    "model = PyTorchModel(\n",
    "    model_data=model_data,\n",
    "    role=role,\n",
    "    entry_point='inference.py',\n",
    "    source_dir='.',\n",
    "    framework_version='2.3.0',\n",
    "    py_version='py311',\n",
    "    dependencies=['requirements.txt']\n",
    ")\n",
    "predictor = model.deploy(\n",
    "    instance_type='ml.m5.xlarge',\n",
    "    initial_instance_count=1\n",
    ")\n",
    "response = predictor.predict({\n",
    "    'bucket': 'mhist-streamlit-app',\n",
    "    'key': 'images/original/MHIST_aah.png'\n",
    "})\n",
    "predictor.delete_endpoint()\n",
    "response"
   ]
  },
  {
   "cell_type": "code",
   "execution_count": null,
   "id": "433f4dbf-26a0-455b-a5e8-ac8901070baf",
   "metadata": {},
   "outputs": [],
   "source": []
  }
 ],
 "metadata": {
  "kernelspec": {
   "display_name": "base",
   "language": "python",
   "name": "python3"
  },
  "language_info": {
   "codemirror_mode": {
    "name": "ipython",
    "version": 3
   },
   "file_extension": ".py",
   "mimetype": "text/x-python",
   "name": "python",
   "nbconvert_exporter": "python",
   "pygments_lexer": "ipython3",
   "version": "3.10.14"
  }
 },
 "nbformat": 4,
 "nbformat_minor": 5
}
